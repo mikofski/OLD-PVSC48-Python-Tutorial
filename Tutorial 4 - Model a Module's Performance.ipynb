{
 "cells": [
  {
   "cell_type": "markdown",
   "metadata": {},
   "source": [
    "# Tutorial 4 - PV Module Performance\n",
    "\n",
    "Now that we know how to obtain the plane of array (POA) irradiance and cell temperature, let's calculate a module's performance assuming a subset of irradiance and temperature conditions. The objectives for this tutorial are to use pvlib python to do the following:\n",
    "\n",
    "1. Retrieve a set of module CEC parameters from the latest SAM library.\n",
    "2. Calculate the single diode parameters for a set of PV module test conditions known as IEC61853.\n",
    "3. Produce an IV curve for each of the IEC61853 test conditions.\n",
    "4. Derive the CEC model parameters based on Isc, Voc, Imp, and Vmp CEC measurements.\n",
    "\n",
    "## STC\n",
    "The most basic condition is called standard testing conditions or STC, which is considered the reference for most PV modules. For example, all of the PV modules in the SAM CEC module database list their nameplate power at STC.\n",
    "* irradiance: 1000-W/m&sup2;\n",
    "* cell temperature: 25&deg;C\n",
    "* angle of incidence (AOI): 90&deg;\n",
    "* sepctrum: AM1.5g (ASTM G-173)\n",
    "\n",
    "### Air mass (AM)\n",
    "The standard refernce AM1.5g (ASTM G-173) is defined as the solar spectrum of global irradiance that passes through 1.5 atmospheres. For more information see [NREL Solar Spectra](https://www.nrel.gov/grid/solar-resource/spectra.html).\n",
    "\n",
    "## IEC 61853 test conditions\n",
    "Another common set of test conditions is the IEC 61853 standard which provides a grid of temperatures for module testing that covers the expected range of inicident irradiance and cell temperatures for PV modules assuming that the irradiance is normal and the solar spectrum is similar to AM1.5g.\n",
    "* irradiance (W/m&sup2;): 100, 200, 400, 600, 800, 1000, 1100\n",
    "* module temperature (&deg;C): 15, 25, 50, 75\n",
    "* angle of incidence =: 90&deg;\n",
    "* spectrum: AM1.5g (ASTM G-173)\n",
    "\n",
    "Certain combinations are excluded because they're unlikely: (1100-W/m&sup2, 15&deg;C), (400-W/m&sup2, 75&deg;C), (200-W/m&sup2, 50&deg;C), (200-W/m&sup2, 75&deg;C), , (100-W/m&sup2, 50&deg;C), and (100-W/m&sup2, 75&deg;C)"
   ]
  },
  {
   "cell_type": "code",
   "execution_count": 1,
   "metadata": {},
   "outputs": [],
   "source": [
    "# import pvlib and other useful python packages\n",
    "import pvlib\n",
    "import numpy as np\n",
    "import pandas as pd"
   ]
  },
  {
   "cell_type": "code",
   "execution_count": 2,
   "metadata": {},
   "outputs": [],
   "source": [
    "# set STC reference conditions\n",
    "E0 = 1000  # W/m^2\n",
    "T0 = 25  # degC\n",
    "\n",
    "# set the IEC61853 test matrix\n",
    "T_IEC61853 = [15, 25, 50, 75]\n",
    "E_IEC61853 = [100, 200, 400, 600, 800, 1000, 1100]\n",
    "IEC61853 = np.meshgrid(T_IEC61853, E_IEC61853)"
   ]
  },
  {
   "source": [
    "# Single Diode Model (SDM) & IV Curve\n",
    "PV module performance can be modeled using point or continuous IV-curve models. Point models like PVWatts and The Sandia Array Performance Model (SAPM, _aka_ King model) yield the current (I), voltage (V), and power (P) at a single or discrete set of points. PVWatts only yields the performance at the max power point (MPP) of the module, whereas the SAPM also yields the short circuit current (Isc), open circuit voltage (Voc).\n",
    "\n",
    "Continuous IV curve models like the CEC, PVsyst, and DeSoto models yield a relation between current and voltage called an IV curve, and therefore yield a continuous set of (I, V) points spanning from Isc to Voc and beyond. The domain of the IV curve in in quadrants 1, 2, and 4 where voltage is on the horizontal and current is on the vertical axis.\n",
    "\n",
    "[![IV curve](https://www.pveducation.org/sites/default/files/PVCDROM/Modules/Images/NONIDEAL.gif)](https://www.pveducation.org/pvcdrom/modules-and-arrays/mismatch-effects)\n",
    "\n",
    "Attribution: [PV Education, UNSW, ASU, _et al._](https://www.pveducation.org/pvcdrom/modules-and-arrays/mismatch-effects)\n",
    "\n",
    "The IV curve relationship is based on an electrical analog called the single diode model which is defined by 5 parameters: the light current (IL), shunt resistance (Rsh), series resistance (Rs), diode saturation current (Isat or Io), and the diode ideality factor (a). Other symbols for diode ideality factor are (&gamma;) and (n), but (&gamma;) is also used for power temperature coefficient.\n",
    "\n",
    "[![single diode model](https://pvpmc.sandia.gov/wp-content/uploads/2012/04/Single-Diode-EC2.png)](https://pvpmc.sandia.gov/modeling-steps/2-dc-module-iv/diode-equivalent-circuit-models/)\n",
    "\n",
    "Attribution: [Sandia NL PV Performance Modeling Collaborative](https://pvpmc.sandia.gov/modeling-steps/2-dc-module-iv/diode-equivalent-circuit-models/)\n",
    "\n",
    "## CEC Model (_aka_ SAM or 6-parameter model)\n",
    "The California Energy Commision (CEC) contracted authorized testing labs to measure at STC the nameplate power (Pmp), Isc, Voc, and the MPP voltage and current (Vmp, Imp), as well as Isc and Voc temperature coefficients, the module dimensions, the number of series cells (Ns), parallel substrings (Np), module area in m&sup2; (Ac), and more. Tables of the CEC module parameters are available from the [Solar Equipment Lists](https://www.energy.ca.gov/programs-and-topics/programs/solar-equipment-lists). These measurements have been fit to the SDM by the NREL System Advisor Model (SAM) and stored in a CSV file that is bundled with SAM. You can access the [SAM library on GitHub](https://github.com/NREL/SAM/tree/develop/deploy/libraries). This SAM library of module coefficients derived from the CEC measurements are collectively called CEC modules and the SAM model that uses the derived SDM coefficients is called the CEC model. The CEC model used in SAM is sometimes also called the 6-parameter model because of the `Adjust` additional parameter which differentiates it from the DeSoto model.\n",
    "\n",
    "### pvlib python\n",
    "There are several functions we can use in pvlib python:\n",
    "\n",
    "* [`pvlib.pvsystem.retrieve_sam()`](https://pvlib-python.readthedocs.io/en/latest/generated/pvlib.pvsystem.retrieve_sam.html#pvlib.pvsystem.retrieve_sam)\n",
    "* [`pvlib.pvsystem.calcparam_cec()`](https://pvlib-python.readthedocs.io/en/latest/generated/pvlib.pvsystem.calcparams_cec.html)\n",
    "* [`pvlib.pvsystem.singlediode()`](https://pvlib-python.readthedocs.io/en/latest/generated/pvlib.pvsystem.singlediode.html)\n",
    "* [`pvlib.ivtools.sdm.fit_cec_sam()`](https://pvlib-python.readthedocs.io/en/latest/generated/pvlib.ivtools.sdm.fit_cec_sam.html)"
   ],
   "cell_type": "markdown",
   "metadata": {}
  },
  {
   "cell_type": "code",
   "execution_count": 3,
   "metadata": {},
   "outputs": [
    {
     "output_type": "execute_result",
     "data": {
      "text/plain": [
       "                                  Technology Bifacial       STC    PTC    A_c  \\\n",
       "A10Green_Technology_A10J_S72_175   Mono-c-Si        0  175.0914  151.2    1.3   \n",
       "A10Green_Technology_A10J_S72_180   Mono-c-Si        0   179.928  155.7    1.3   \n",
       "A10Green_Technology_A10J_S72_185   Mono-c-Si        0  184.7016  160.2    1.3   \n",
       "A10Green_Technology_A10J_M60_220  Multi-c-Si        0   219.876  189.1  1.624   \n",
       "A10Green_Technology_A10J_M60_225  Multi-c-Si        0  224.9856  193.5  1.624   \n",
       "\n",
       "                                 Length  Width N_s I_sc_ref V_oc_ref  ...  \\\n",
       "A10Green_Technology_A10J_S72_175  1.576  0.825  72     5.17    43.99  ...   \n",
       "A10Green_Technology_A10J_S72_180  1.576  0.825  72     5.31    44.06  ...   \n",
       "A10Green_Technology_A10J_S72_185  1.576  0.825  72     5.43    44.14  ...   \n",
       "A10Green_Technology_A10J_M60_220  1.632  0.995  60     7.95    36.06  ...   \n",
       "A10Green_Technology_A10J_M60_225  1.632  0.995  60     8.04    36.24  ...   \n",
       "\n",
       "                                     a_ref   I_L_ref I_o_ref       R_s  \\\n",
       "A10Green_Technology_A10J_S72_175  1.981696  5.175703     0.0  0.316688   \n",
       "A10Green_Technology_A10J_S72_180  1.988414  5.316148     0.0  0.299919   \n",
       "A10Green_Technology_A10J_S72_185  1.984817  5.435676     0.0  0.311962   \n",
       "A10Green_Technology_A10J_M60_220  1.673094  7.959062     0.0  0.140393   \n",
       "A10Green_Technology_A10J_M60_225  1.671782  8.047206     0.0   0.14737   \n",
       "\n",
       "                                    R_sh_ref     Adjust gamma_r BIPV  \\\n",
       "A10Green_Technology_A10J_S72_175  287.102203  16.057121 -0.5072    N   \n",
       "A10Green_Technology_A10J_S72_180  259.047943  16.418983 -0.5072    N   \n",
       "A10Green_Technology_A10J_S72_185  298.424438  15.688233 -0.5072    N   \n",
       "A10Green_Technology_A10J_M60_220  123.168404  21.875164 -0.5196    N   \n",
       "A10Green_Technology_A10J_M60_225  164.419479  20.698376 -0.5196    N   \n",
       "\n",
       "                                            Version      Date  \n",
       "A10Green_Technology_A10J_S72_175  SAM 2018.11.11 r2  1/3/2019  \n",
       "A10Green_Technology_A10J_S72_180  SAM 2018.11.11 r2  1/3/2019  \n",
       "A10Green_Technology_A10J_S72_185  SAM 2018.11.11 r2  1/3/2019  \n",
       "A10Green_Technology_A10J_M60_220  SAM 2018.11.11 r2  1/3/2019  \n",
       "A10Green_Technology_A10J_M60_225  SAM 2018.11.11 r2  1/3/2019  \n",
       "\n",
       "[5 rows x 25 columns]"
      ],
      "text/html": "<div>\n<style scoped>\n    .dataframe tbody tr th:only-of-type {\n        vertical-align: middle;\n    }\n\n    .dataframe tbody tr th {\n        vertical-align: top;\n    }\n\n    .dataframe thead th {\n        text-align: right;\n    }\n</style>\n<table border=\"1\" class=\"dataframe\">\n  <thead>\n    <tr style=\"text-align: right;\">\n      <th></th>\n      <th>Technology</th>\n      <th>Bifacial</th>\n      <th>STC</th>\n      <th>PTC</th>\n      <th>A_c</th>\n      <th>Length</th>\n      <th>Width</th>\n      <th>N_s</th>\n      <th>I_sc_ref</th>\n      <th>V_oc_ref</th>\n      <th>...</th>\n      <th>a_ref</th>\n      <th>I_L_ref</th>\n      <th>I_o_ref</th>\n      <th>R_s</th>\n      <th>R_sh_ref</th>\n      <th>Adjust</th>\n      <th>gamma_r</th>\n      <th>BIPV</th>\n      <th>Version</th>\n      <th>Date</th>\n    </tr>\n  </thead>\n  <tbody>\n    <tr>\n      <th>A10Green_Technology_A10J_S72_175</th>\n      <td>Mono-c-Si</td>\n      <td>0</td>\n      <td>175.0914</td>\n      <td>151.2</td>\n      <td>1.3</td>\n      <td>1.576</td>\n      <td>0.825</td>\n      <td>72</td>\n      <td>5.17</td>\n      <td>43.99</td>\n      <td>...</td>\n      <td>1.981696</td>\n      <td>5.175703</td>\n      <td>0.0</td>\n      <td>0.316688</td>\n      <td>287.102203</td>\n      <td>16.057121</td>\n      <td>-0.5072</td>\n      <td>N</td>\n      <td>SAM 2018.11.11 r2</td>\n      <td>1/3/2019</td>\n    </tr>\n    <tr>\n      <th>A10Green_Technology_A10J_S72_180</th>\n      <td>Mono-c-Si</td>\n      <td>0</td>\n      <td>179.928</td>\n      <td>155.7</td>\n      <td>1.3</td>\n      <td>1.576</td>\n      <td>0.825</td>\n      <td>72</td>\n      <td>5.31</td>\n      <td>44.06</td>\n      <td>...</td>\n      <td>1.988414</td>\n      <td>5.316148</td>\n      <td>0.0</td>\n      <td>0.299919</td>\n      <td>259.047943</td>\n      <td>16.418983</td>\n      <td>-0.5072</td>\n      <td>N</td>\n      <td>SAM 2018.11.11 r2</td>\n      <td>1/3/2019</td>\n    </tr>\n    <tr>\n      <th>A10Green_Technology_A10J_S72_185</th>\n      <td>Mono-c-Si</td>\n      <td>0</td>\n      <td>184.7016</td>\n      <td>160.2</td>\n      <td>1.3</td>\n      <td>1.576</td>\n      <td>0.825</td>\n      <td>72</td>\n      <td>5.43</td>\n      <td>44.14</td>\n      <td>...</td>\n      <td>1.984817</td>\n      <td>5.435676</td>\n      <td>0.0</td>\n      <td>0.311962</td>\n      <td>298.424438</td>\n      <td>15.688233</td>\n      <td>-0.5072</td>\n      <td>N</td>\n      <td>SAM 2018.11.11 r2</td>\n      <td>1/3/2019</td>\n    </tr>\n    <tr>\n      <th>A10Green_Technology_A10J_M60_220</th>\n      <td>Multi-c-Si</td>\n      <td>0</td>\n      <td>219.876</td>\n      <td>189.1</td>\n      <td>1.624</td>\n      <td>1.632</td>\n      <td>0.995</td>\n      <td>60</td>\n      <td>7.95</td>\n      <td>36.06</td>\n      <td>...</td>\n      <td>1.673094</td>\n      <td>7.959062</td>\n      <td>0.0</td>\n      <td>0.140393</td>\n      <td>123.168404</td>\n      <td>21.875164</td>\n      <td>-0.5196</td>\n      <td>N</td>\n      <td>SAM 2018.11.11 r2</td>\n      <td>1/3/2019</td>\n    </tr>\n    <tr>\n      <th>A10Green_Technology_A10J_M60_225</th>\n      <td>Multi-c-Si</td>\n      <td>0</td>\n      <td>224.9856</td>\n      <td>193.5</td>\n      <td>1.624</td>\n      <td>1.632</td>\n      <td>0.995</td>\n      <td>60</td>\n      <td>8.04</td>\n      <td>36.24</td>\n      <td>...</td>\n      <td>1.671782</td>\n      <td>8.047206</td>\n      <td>0.0</td>\n      <td>0.14737</td>\n      <td>164.419479</td>\n      <td>20.698376</td>\n      <td>-0.5196</td>\n      <td>N</td>\n      <td>SAM 2018.11.11 r2</td>\n      <td>1/3/2019</td>\n    </tr>\n  </tbody>\n</table>\n<p>5 rows × 25 columns</p>\n</div>"
     },
     "metadata": {},
     "execution_count": 3
    }
   ],
   "source": [
    "# use pvlib python to retrieve CEC module parameters from the SAM libraries\n",
    "# with the \"name\" argument set to \"CECMod\"\n",
    "CECMODS = pvlib.pvsystem.retrieve_sam(name='CECMod')\n",
    "\n",
    "# the CEC modules are a pandas DataFrame oriented as columns, transpose to arrange\n",
    "# as indices\n",
    "CECMODS.T.head()"
   ]
  },
  {
   "source": [
    "### CEC modules library\n",
    "Periodically a static copy of CEC module parametres is copied from the SAM library to pvlib python. The modules are roughly named according the following scheme:\n",
    "\n",
    "    <manufacturer name> <model name>\n",
    "\n",
    "Whitesace, dashes, and other non-alphanumerical characters are all replaced by underscores in pvlib python.\n",
    "\n",
    "EG: \"Canadian Solar Inc. CS6X-300M\" becomes\n",
    "\n",
    "    Canadian_Solar_Inc__CS6X_300M\n",
    "\n",
    "The main CEC module parameters are defined as follows:\n",
    "\n",
    "* `Technology`: `<str>` one of \"Mono-c-Si\", \"Multi-c-Si\", \"Thin Film\", \"CdTe\", or \"CIGS\" families of cells\n",
    "* `Bifacial`: `<bool>` is bifacial?\n",
    "* `STC`: `<float>` nameplate in W at STC\n",
    "* `PTC`: `<float>` nameplate in W at PVUSA test conditions (1-sun, 20&deg; ambient temperature, 1-m/s windspeed)\n",
    "* `A_c`: `<float>` module area in m&sup2;\n",
    "* `Length`: `<float>` module length in m;\n",
    "* `Width`: `<float>` module width in m;\n",
    "* `N_s`: `<int>` number of cells in series\n",
    "* `I_sc_ref`: `<float>` short circuit current in A at reference condition \n",
    "* `V_oc_ref`: `<float>` open circuit voltage in V at reference condition\n",
    "* `I_mp_ref`: `<float>` max power current in A at reference condition \n",
    "* `V_mp_ref`: `<float>` max power voltage in V at reference condition\n",
    "* `alpha_sc`: `<float>` short circuit current temperature coefficient in A/&Delta;&deg;C\n",
    "* `beta_oc`: `<float>` open circuit voltage temperature coefficient in V/&Delta;&deg;C\n",
    "* `T_NOCT`: `<float>` normal operating cell temperature in &deg;C\n",
    "* `a_ref`: `<float>` diode ideality factor\n",
    "* `I_L_ref`: `<float>` light or photogenerated current at reference condition in A\n",
    "* `I_o_ref`: `<float>` diode saturation current at reference condition in A\n",
    "* `R_s`: `<float>` series resistance in &Omega;\n",
    "* `R_sh_ref`: `<float>` shunt resistance at reference condition in &Omega;\n",
    "* `Adjust`: `<float>` adjustment to short circuit temperature coefficient in %\n",
    "* `gamma_r`: `<float>` power temperature coefficient at reference condition in %/&Delta;&deg;C\n",
    "* `BIPV`: `<bool>` is building integrated PV?"
   ],
   "cell_type": "markdown",
   "metadata": {}
  },
  {
   "cell_type": "code",
   "execution_count": 4,
   "metadata": {},
   "outputs": [
    {
     "output_type": "execute_result",
     "data": {
      "text/plain": [
       "                              Technology Bifacial      STC    PTC    A_c  \\\n",
       "Canadian_Solar_Inc__CS5P_220M  Mono-c-Si        0  219.961  200.1    1.7   \n",
       "Canadian_Solar_Inc__CS6P_220M  Mono-c-Si        0  219.775  198.5  1.549   \n",
       "\n",
       "                              Length  Width N_s I_sc_ref V_oc_ref  ...  \\\n",
       "Canadian_Solar_Inc__CS5P_220M  1.602  1.061  96      5.1     59.4  ...   \n",
       "Canadian_Solar_Inc__CS6P_220M  1.615  0.959  60     7.97     36.9  ...   \n",
       "\n",
       "                                  a_ref   I_L_ref I_o_ref       R_s  \\\n",
       "Canadian_Solar_Inc__CS5P_220M  2.635926   5.11426     0.0  1.066023   \n",
       "Canadian_Solar_Inc__CS6P_220M  1.515583  7.980784     0.0  0.397651   \n",
       "\n",
       "                                 R_sh_ref    Adjust gamma_r BIPV  \\\n",
       "Canadian_Solar_Inc__CS5P_220M  381.254425  8.619516  -0.476    N   \n",
       "Canadian_Solar_Inc__CS6P_220M  293.871094 -3.311191  -0.436    N   \n",
       "\n",
       "                                         Version      Date  \n",
       "Canadian_Solar_Inc__CS5P_220M  SAM 2018.11.11 r2  1/3/2019  \n",
       "Canadian_Solar_Inc__CS6P_220M  SAM 2018.11.11 r2  1/3/2019  \n",
       "\n",
       "[2 rows x 25 columns]"
      ],
      "text/html": "<div>\n<style scoped>\n    .dataframe tbody tr th:only-of-type {\n        vertical-align: middle;\n    }\n\n    .dataframe tbody tr th {\n        vertical-align: top;\n    }\n\n    .dataframe thead th {\n        text-align: right;\n    }\n</style>\n<table border=\"1\" class=\"dataframe\">\n  <thead>\n    <tr style=\"text-align: right;\">\n      <th></th>\n      <th>Technology</th>\n      <th>Bifacial</th>\n      <th>STC</th>\n      <th>PTC</th>\n      <th>A_c</th>\n      <th>Length</th>\n      <th>Width</th>\n      <th>N_s</th>\n      <th>I_sc_ref</th>\n      <th>V_oc_ref</th>\n      <th>...</th>\n      <th>a_ref</th>\n      <th>I_L_ref</th>\n      <th>I_o_ref</th>\n      <th>R_s</th>\n      <th>R_sh_ref</th>\n      <th>Adjust</th>\n      <th>gamma_r</th>\n      <th>BIPV</th>\n      <th>Version</th>\n      <th>Date</th>\n    </tr>\n  </thead>\n  <tbody>\n    <tr>\n      <th>Canadian_Solar_Inc__CS5P_220M</th>\n      <td>Mono-c-Si</td>\n      <td>0</td>\n      <td>219.961</td>\n      <td>200.1</td>\n      <td>1.7</td>\n      <td>1.602</td>\n      <td>1.061</td>\n      <td>96</td>\n      <td>5.1</td>\n      <td>59.4</td>\n      <td>...</td>\n      <td>2.635926</td>\n      <td>5.11426</td>\n      <td>0.0</td>\n      <td>1.066023</td>\n      <td>381.254425</td>\n      <td>8.619516</td>\n      <td>-0.476</td>\n      <td>N</td>\n      <td>SAM 2018.11.11 r2</td>\n      <td>1/3/2019</td>\n    </tr>\n    <tr>\n      <th>Canadian_Solar_Inc__CS6P_220M</th>\n      <td>Mono-c-Si</td>\n      <td>0</td>\n      <td>219.775</td>\n      <td>198.5</td>\n      <td>1.549</td>\n      <td>1.615</td>\n      <td>0.959</td>\n      <td>60</td>\n      <td>7.97</td>\n      <td>36.9</td>\n      <td>...</td>\n      <td>1.515583</td>\n      <td>7.980784</td>\n      <td>0.0</td>\n      <td>0.397651</td>\n      <td>293.871094</td>\n      <td>-3.311191</td>\n      <td>-0.436</td>\n      <td>N</td>\n      <td>SAM 2018.11.11 r2</td>\n      <td>1/3/2019</td>\n    </tr>\n  </tbody>\n</table>\n<p>2 rows × 25 columns</p>\n</div>"
     },
     "metadata": {},
     "execution_count": 4
    }
   ],
   "source": [
    "# One trick to find the modules is to search the indices using string filters\n",
    "# For example: find all Candian Solar 220-W mono-Si modules\n",
    "cs_220m_mods = CECMODS.T.index.str.startswith('Canadian_Solar') & CECMODS.T.index.str.contains('220M')\n",
    "CECMODS.T[cs_220m_mods]"
   ]
  },
  {
   "cell_type": "code",
   "execution_count": 5,
   "metadata": {},
   "outputs": [
    {
     "output_type": "execute_result",
     "data": {
      "text/plain": [
       "Technology            Mono-c-Si\n",
       "Bifacial                      0\n",
       "STC                     219.961\n",
       "PTC                       200.1\n",
       "A_c                         1.7\n",
       "Length                    1.602\n",
       "Width                     1.061\n",
       "N_s                          96\n",
       "I_sc_ref                    5.1\n",
       "V_oc_ref                   59.4\n",
       "I_mp_ref                   4.69\n",
       "V_mp_ref                   46.9\n",
       "alpha_sc               0.004539\n",
       "beta_oc               -0.222156\n",
       "T_NOCT                     42.4\n",
       "a_ref                  2.635926\n",
       "I_L_ref                 5.11426\n",
       "I_o_ref                     0.0\n",
       "R_s                    1.066023\n",
       "R_sh_ref             381.254425\n",
       "Adjust                 8.619516\n",
       "gamma_r                  -0.476\n",
       "BIPV                          N\n",
       "Version       SAM 2018.11.11 r2\n",
       "Date                   1/3/2019\n",
       "Name: Canadian_Solar_Inc__CS5P_220M, dtype: object"
      ]
     },
     "metadata": {},
     "execution_count": 5
    }
   ],
   "source": [
    "# that was almost too easy, let's use the CS5P-220M\n",
    "# NOTE: don't transpose CECMODS, get column with desired module \n",
    "CS_220M = CECMODS['Canadian_Solar_Inc__CS5P_220M']\n",
    "CS_220M"
   ]
  },
  {
   "source": [
    "## pvfree\n",
    "Another option to get CEC module parameters is to use [pvfree](https://pvfree.herokuapp.com). You can search the table of the [CEC modules](https://pvfree.herokuapp.com/cec_modules/). Once you find the desired module, you can get a JSON dictionary of the CEC module parameters from the API. For example, [Canadian Solar Inc. CS5P-220M](https://pvfree.herokuapp.com/cec_modules/1733/) can be downloaded from the API here: https://pvfree.herokuapp.com/api/v1/cecmodule/1733/?format=json. You can copy and paste or use python to call the API. The API also has search filters you can use. For example: https://pvfree.herokuapp.com/api/v1/cecmodule/?format=json&Name__istartswith=canadian&STC__gt=219&STC__lt=221 searches for all modules starting with \"canadian\" and with nameplate between 219-W and 221-W which returns a list of 6 modules in a JSON dictionary."
   ],
   "cell_type": "markdown",
   "metadata": {}
  },
  {
   "cell_type": "code",
   "execution_count": 6,
   "metadata": {},
   "outputs": [
    {
     "output_type": "stream",
     "name": "stdout",
     "text": [
      "Total count of Canadian Solar 220-W with Isc < 6A: 2\n"
     ]
    },
    {
     "output_type": "execute_result",
     "data": {
      "text/plain": [
       "[{'A_c': 1.7,\n",
       "  'Adjust': 8.619516,\n",
       "  'BIPV': False,\n",
       "  'Bifacial': False,\n",
       "  'Date': '2018-11-04',\n",
       "  'I_L_ref': 5.11426,\n",
       "  'I_mp_ref': 4.69,\n",
       "  'I_o_ref': 8.102508e-10,\n",
       "  'I_sc_ref': 5.1,\n",
       "  'Length': 1.602,\n",
       "  'N_s': 96,\n",
       "  'Name': 'Canadian Solar Inc. CS5P-220M',\n",
       "  'PTC': 200.1,\n",
       "  'R_s': 1.066023,\n",
       "  'R_sh_ref': 381.254425,\n",
       "  'STC': 219.961,\n",
       "  'T_NOCT': 42.4,\n",
       "  'Technology': 'Mono-c-Si',\n",
       "  'V_mp_ref': 46.9,\n",
       "  'V_oc_ref': 59.4,\n",
       "  'Version': 'SAM 2018.10.29',\n",
       "  'Width': 1.061,\n",
       "  'a_ref': 2.635926,\n",
       "  'alpha_sc': 0.004539,\n",
       "  'beta_oc': -0.222156,\n",
       "  'created_on': '2019-02-12',\n",
       "  'gamma_r': -0.476,\n",
       "  'id': 1733,\n",
       "  'modified_on': '2019-02-12',\n",
       "  'resource_uri': '/api/v1/cecmodule/1733/'},\n",
       " {'A_c': 1.639,\n",
       "  'Adjust': 2.227195,\n",
       "  'BIPV': False,\n",
       "  'Bifacial': False,\n",
       "  'Date': '2018-11-04',\n",
       "  'I_L_ref': 5.05607,\n",
       "  'I_mp_ref': 4.73,\n",
       "  'I_o_ref': 9.957448e-11,\n",
       "  'I_sc_ref': 5.05,\n",
       "  'Length': 1.579,\n",
       "  'N_s': 96,\n",
       "  'Name': 'Canadian Solar Inc. CS5P-220P',\n",
       "  'PTC': 193.1,\n",
       "  'R_s': 1.00467,\n",
       "  'R_sh_ref': 835.904785,\n",
       "  'STC': 220.418,\n",
       "  'T_NOCT': 51.4,\n",
       "  'Technology': 'Multi-c-Si',\n",
       "  'V_mp_ref': 46.6,\n",
       "  'V_oc_ref': 58.3,\n",
       "  'Version': 'SAM 2018.10.29',\n",
       "  'Width': 1.038,\n",
       "  'a_ref': 2.366377,\n",
       "  'alpha_sc': 0.0025,\n",
       "  'beta_oc': -0.196588,\n",
       "  'created_on': '2019-02-12',\n",
       "  'gamma_r': -0.43,\n",
       "  'id': 1734,\n",
       "  'modified_on': '2019-02-12',\n",
       "  'resource_uri': '/api/v1/cecmodule/1734/'}]"
      ]
     },
     "metadata": {},
     "execution_count": 6
    }
   ],
   "source": [
    "import urllib, json\n",
    "params = urllib.parse.urlencode({\n",
    "    'Name__istartswith': 'canadian',\n",
    "    'STC__gt': 219, 'STC__lt': 221,\n",
    "    'I_sc_ref__lt': 6})\n",
    "with urllib.request.urlopen(f'https://pvfree.herokuapp.com/api/v1/cecmodule/?{params}') as fp:\n",
    "    cs_220_mods = json.load(fp)\n",
    "print(f\"Total count of Canadian Solar 220-W with Isc < 6A: {cs_220_mods['meta']['total_count']}\")\n",
    "cs_220_mods['objects']"
   ]
  },
  {
   "source": [
    "### Pop Quiz #1\n",
    "Get any CEC module from the `CECMODS` or pvfree.\n",
    "\n",
    "* Which module did you get?\n",
    "* How did you get it?\n",
    "* What is the module's nameplate power, Isc, Voc, Imp, and Vmp?\n",
    "* Who is the manufacturer?\n",
    "* What cell technology is it?\n",
    "* How does it differ from CS5P-220M?"
   ],
   "cell_type": "markdown",
   "metadata": {}
  },
  {
   "cell_type": "code",
   "execution_count": 7,
   "metadata": {},
   "outputs": [
    {
     "output_type": "stream",
     "name": "stdout",
     "text": [
      "*** Sorry, 'your module goes here' wasn't found in CECMODS. Please try again. ***\n"
     ]
    }
   ],
   "source": [
    "# use this cell to search CECMODS.T or pvfree\n",
    "your_mod = 'your module goes here'\n",
    "try:\n",
    "    your_mod = CECMODS[your_mod]\n",
    "except KeyError:\n",
    "    print(f\"*** Sorry, '{your_mod}' wasn't found in CECMODS. Please try again. ***\")\n",
    "else:\n",
    "    # display your module\n",
    "    your_mod"
   ]
  },
  {
   "source": [],
   "cell_type": "markdown",
   "metadata": {}
  },
  {
   "cell_type": "code",
   "execution_count": 12,
   "metadata": {},
   "outputs": [
    {
     "output_type": "execute_result",
     "data": {
      "text/plain": [
       "array([[0.50727824, 0.511426  , 0.5217954 , 0.5321648 ],\n",
       "       [1.01455648, 1.022852  , 1.0435908 , 1.0643296 ],\n",
       "       [2.02911296, 2.045704  , 2.0871816 , 2.1286592 ],\n",
       "       [3.04366944, 3.068556  , 3.1307724 , 3.19298881],\n",
       "       [4.05822592, 4.091408  , 4.1743632 , 4.25731841],\n",
       "       [5.0727824 , 5.11426   , 5.217954  , 5.32164801],\n",
       "       [5.58006064, 5.625686  , 5.7397494 , 5.85381281]])"
      ]
     },
     "metadata": {},
     "execution_count": 12
    }
   ],
   "source": [
    "# finally this is the magic\n",
    "temp_cell, effective_irradiance = IEC61853\n",
    "cecparams = pvlib.pvsystem.calcparams_cec(\n",
    "        effective_irradiance=effective_irradiance,\n",
    "        temp_cell=temp_cell,\n",
    "        alpha_sc=CS_220M.alpha_sc,\n",
    "        a_ref=CS_220M.a_ref,\n",
    "        I_L_ref=CS_220M.I_L_ref,\n",
    "        I_o_ref=CS_220M.I_o_ref,\n",
    "        R_sh_ref=CS_220M.R_sh_ref,\n",
    "        R_s=CS_220M.R_s,\n",
    "        Adjust=CS_220M.Adjust,\n",
    "        EgRef=1.121,\n",
    "        dEgdT=-0.0002677)\n",
    "IL, I0, Rs, Rsh, nNsVth = cecparams\n",
    "IL"
   ]
  },
  {
   "cell_type": "code",
   "execution_count": 15,
   "metadata": {},
   "outputs": [
    {
     "output_type": "execute_result",
     "data": {
      "text/plain": [
       "OrderedDict([('i_sc',\n",
       "              array([0.50713644, 0.51128304, 0.52164953, 0.53201582, 1.01398944,\n",
       "                     1.02228032, 1.04300751, 1.06373424, 2.02684606, 2.04341856,\n",
       "                     2.08484978, 2.12627987, 3.03857176, 3.06341664, 3.12552875,\n",
       "                     3.18763879, 4.04916844, 4.08227646, 4.16504637, 4.24781282,\n",
       "                     5.05863797, 5.09999992, 5.20340456, 5.30680377, 5.56295065,\n",
       "                     5.60843611, 5.72214948, 5.83585612])),\n",
       "             ('v_oc',\n",
       "              array([55.95113874, 53.33898569, 46.77673451, 40.17208865, 57.71454958,\n",
       "                     55.16353321, 48.75411129, 42.30227496, 59.47795818, 56.9880783 ,\n",
       "                     50.73148516, 44.43245937, 60.50948504, 58.05536762, 51.88817336,\n",
       "                     45.67853615, 61.24136452, 58.81262094, 52.70885608, 46.56264107,\n",
       "                     61.80905409, 59.39999195, 53.34542671, 47.24840575, 62.0515284 ,\n",
       "                     59.6508727 , 53.61732182, 47.54131286])),\n",
       "             ('i_mp',\n",
       "              array([0.46986118, 0.47224731, 0.47646177, 0.47780523, 0.9395877 ,\n",
       "                     0.94454765, 0.95356753, 0.9575038 , 1.87726544, 1.88663634,\n",
       "                     1.90516917, 1.91364398, 2.81119642, 2.82549214, 2.85216039,\n",
       "                     2.8624206 , 3.7419387 , 3.75954215, 3.79309709, 3.80382018,\n",
       "                     4.66805894, 4.68947572, 4.72685268, 4.73516828, 5.1299628 ,\n",
       "                     5.15301723, 5.19123049, 5.19896277])),\n",
       "             ('v_mp',\n",
       "              array([47.82994425, 45.17467702, 38.62322195, 32.17423339, 49.05501834,\n",
       "                     46.45005115, 40.02700699, 33.69519869, 49.82269479, 47.28585449,\n",
       "                     40.99058137, 34.7944446 , 49.91168543, 47.39780058, 41.19035401,\n",
       "                     35.09975297, 49.71137116, 47.23231223, 41.08896564, 35.07160072,\n",
       "                     49.36825465, 46.90523032, 40.82974353, 34.87952438, 49.15460092,\n",
       "                     46.70000454, 40.65819347, 34.72876787])),\n",
       "             ('p_mp',\n",
       "              array([ 22.47343394,  21.33361989,  18.40248885,  15.37301683,\n",
       "                      46.09149166,  43.8742866 ,  38.16845408,  32.26328096,\n",
       "                      93.53042326,  89.21121134,  78.09399194,  66.58417955,\n",
       "                     140.31155148, 133.92211282, 117.4814962 , 100.47025604,\n",
       "                     186.01690382, 177.57186861, 155.8544359 , 133.40606247,\n",
       "                     230.45392244, 219.96093865, 192.99618253, 165.16041729,\n",
       "                     252.16127408, 240.6459279 , 211.06605369, 180.55357125])),\n",
       "             ('i_x',\n",
       "              array([0.49979039, 0.50426519, 0.51534484, 0.5258335 , 0.99884185,\n",
       "                     1.00777682, 1.02993261, 1.05109267, 1.99564117, 2.01346647,\n",
       "                     2.05765662, 2.09984328, 2.99096648, 3.01764462, 3.08367297,\n",
       "                     3.1462096 , 3.9849342 , 4.02042226, 4.1080184 , 4.18988376,\n",
       "                     4.97759205, 5.02183469, 5.13061058, 5.23029642, 5.47343591,\n",
       "                     5.52202897, 5.64119616, 5.74901772])),\n",
       "             ('i_xx',\n",
       "              array([0.37643301, 0.37534964, 0.37007631, 0.36133697, 0.7408743 ,\n",
       "                     0.73912969, 0.7297048 , 0.71427863, 1.43194294, 1.4277624 ,\n",
       "                     1.41134165, 1.3831529 , 2.07544021, 2.07097567, 2.04748417,\n",
       "                     2.0051186 , 2.68061492, 2.67352376, 2.64385653, 2.58901059,\n",
       "                     3.25188233, 3.24441481, 3.20622061, 3.13848598, 3.52806432,\n",
       "                     3.52021953, 3.47708873, 3.4051031 ])),\n",
       "             ('v',\n",
       "              array([[ 0.        ,  0.55951139,  1.11902277, ..., 54.83211596,\n",
       "                      55.39162735, 55.95113874],\n",
       "                     [ 0.        ,  0.53338986,  1.06677971, ..., 52.27220597,\n",
       "                      52.80559583, 53.33898569],\n",
       "                     [ 0.        ,  0.46776735,  0.93553469, ..., 45.84119982,\n",
       "                      46.30896717, 46.77673451],\n",
       "                     ...,\n",
       "                     [ 0.        ,  0.59650873,  1.19301745, ..., 58.45785524,\n",
       "                      59.05436397, 59.6508727 ],\n",
       "                     [ 0.        ,  0.53617322,  1.07234644, ..., 52.54497538,\n",
       "                      53.0811486 , 53.61732182],\n",
       "                     [ 0.        ,  0.47541313,  0.95082626, ..., 46.5904866 ,\n",
       "                      47.06589973, 47.54131286]])),\n",
       "             ('i',\n",
       "              array([[ 5.07136440e-01,  5.06989725e-01,  5.06843011e-01, ...,\n",
       "                       1.54202274e-01,  8.32393205e-02,  1.59872116e-14],\n",
       "                     [ 5.11283040e-01,  5.11143175e-01,  5.11003310e-01, ...,\n",
       "                       1.45662043e-01,  7.81916321e-02,  1.53765889e-14],\n",
       "                     [ 5.21649534e-01,  5.21526868e-01,  5.21404201e-01, ...,\n",
       "                       1.24964830e-01,  6.62333928e-02, -1.43218770e-14],\n",
       "                     ...,\n",
       "                     [ 5.60843611e+00,  5.60672033e+00,  5.60500455e+00, ...,\n",
       "                       7.52552254e-01,  3.80835218e-01, -3.81916720e-14],\n",
       "                     [ 5.72214948e+00,  5.72060718e+00,  5.71906487e+00, ...,\n",
       "                       6.66129094e-01,  3.36624070e-01, -1.40332190e-13],\n",
       "                     [ 5.83585612e+00,  5.83448725e+00,  5.83311816e+00, ...,\n",
       "                       5.82291602e-01,  2.93850615e-01,  1.75859327e-13]]))])"
      ]
     },
     "metadata": {},
     "execution_count": 15
    }
   ],
   "source": [
    "iv = pvlib.pvsystem.singlediode(\n",
    "    photocurrent=IL.flatten(),\n",
    "    saturation_current=I0.flatten(),\n",
    "    resistance_series=Rs,\n",
    "    resistance_shunt=Rsh.flatten(),\n",
    "    nNsVth=nNsVth.flatten(),\n",
    "    ivcurve_pnts=101,\n",
    "    method='lambertw')\n",
    "iv"
   ]
  },
  {
   "cell_type": "code",
   "execution_count": 11,
   "metadata": {},
   "outputs": [
    {
     "output_type": "execute_result",
     "data": {
      "text/plain": [
       "array([[15, 25, 50, 75],\n",
       "       [15, 25, 50, 75],\n",
       "       [15, 25, 50, 75],\n",
       "       [15, 25, 50, 75],\n",
       "       [15, 25, 50, 75],\n",
       "       [15, 25, 50, 75],\n",
       "       [15, 25, 50, 75]])"
      ]
     },
     "metadata": {},
     "execution_count": 11
    }
   ],
   "source": [
    "effective_irradiance"
   ]
  },
  {
   "cell_type": "code",
   "execution_count": null,
   "metadata": {},
   "outputs": [],
   "source": []
  }
 ],
 "metadata": {
  "kernelspec": {
   "name": "python3710jvsc74a57bd0be8bc4c463b48f483c6b140627518c12f8986560683986bc2bdaa82c662f642c",
   "display_name": "Python 3.7.10 64-bit ('py37': conda)"
  },
  "language_info": {
   "codemirror_mode": {
    "name": "ipython",
    "version": 3
   },
   "file_extension": ".py",
   "mimetype": "text/x-python",
   "name": "python",
   "nbconvert_exporter": "python",
   "pygments_lexer": "ipython3",
   "version": "3.7.10"
  }
 },
 "nbformat": 4,
 "nbformat_minor": 2
}